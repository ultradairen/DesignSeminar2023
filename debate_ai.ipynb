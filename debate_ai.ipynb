{
 "cells": [
  {
   "cell_type": "markdown",
   "metadata": {},
   "source": [
    "## Simple Agent for Discourse\n",
    "This notebook is designed to run a simple agent that interacts with the Discourse forum using the OpenAI API."
   ]
  },
  {
   "cell_type": "markdown",
   "metadata": {},
   "source": [
    "### Installing Necessary Libraries"
   ]
  },
  {
   "cell_type": "code",
   "execution_count": null,
   "metadata": {},
   "outputs": [],
   "source": [
    "!pip install -r requirements.txt"
   ]
  },
  {
   "cell_type": "markdown",
   "metadata": {},
   "source": [
    "### Import Necessary Libraries"
   ]
  },
  {
   "cell_type": "code",
   "execution_count": null,
   "metadata": {},
   "outputs": [],
   "source": [
    "import pprint, time, os\n",
    "import simpledcapi\n",
    "from openai import OpenAI\n",
    "import logging\n",
    "import re\n",
    "import random\n",
    "from dotenv import load_dotenv"
   ]
  },
  {
   "cell_type": "markdown",
   "metadata": {},
   "source": [
    "### Load Environment Variables (if any)"
   ]
  },
  {
   "cell_type": "code",
   "execution_count": null,
   "metadata": {},
   "outputs": [],
   "source": [
    "load_dotenv()"
   ]
  },
  {
   "cell_type": "markdown",
   "metadata": {},
   "source": [
    "### Configuration and Initialization"
   ]
  },
  {
   "cell_type": "markdown",
   "metadata": {},
   "source": [
    "System Promptで設定したペルソナと一致するようにする。\n",
    "\n",
    "- リーダー（人間） - 太一\n",
    "- 想定クライアント（人間） - 由紀\n",
    "- 犬 - レオ\n",
    "- 猫 - ミーちゃん\n",
    "- 馬 - ウィンド\n",
    "- オオカミ - シャドウ\n",
    "- クマ - ブロンコ\n",
    "- ヘビ - スリズル"
   ]
  },
  {
   "cell_type": "code",
   "execution_count": null,
   "metadata": {},
   "outputs": [],
   "source": [
    "agent_name = \"リーダー（人間） - 太一\"\n",
    "additional_instruction = \"\"\"\n",
    "日本の四季を織り交ぜたアイデアを発言してください。\n",
    "\"\"\""
   ]
  },
  {
   "cell_type": "markdown",
   "metadata": {},
   "source": [
    "### 各種設定"
   ]
  },
  {
   "cell_type": "code",
   "execution_count": null,
   "metadata": {},
   "outputs": [],
   "source": [
    "# 最大実行回数\n",
    "max_execution_count = int(os.getenv('MAX_EXECUTION_COUNT', 1))\n",
    "\n",
    "# 次回実行待ち時間の最小値（秒）\n",
    "interval_sec_min = int(os.getenv('INTERVAL_SEC_MIN', 60))\n",
    "\n",
    "# 次回実行待ち時間の最大値（秒）\n",
    "interval_sec_max = int(os.getenv('INTERVAL_SEC_MAX', 3600))\n",
    "\n",
    "# Discourseから持ってくる過去投稿の件数\n",
    "latest_posts_count = int(os.getenv('DISCOURSE_LATEST_POSTS_COUNT', 10))\n",
    "\n",
    "# Discourse configuration\n",
    "simpledcapi.discourse_url = os.getenv('DISCOURSE_URL')\n",
    "simpledcapi.Api_Key = os.getenv('DISCOURSE_API_KEY')\n",
    "simpledcapi.Api_Username = os.getenv('DISCOURSE_API_USERNAME')\n",
    "\n",
    "# Target discourse category/topic\n",
    "category_id = os.getenv('DISCOURSE_CATEGORY_ID')\n",
    "topic_id = os.getenv('DISCOURSE_TOPIC_ID')\n",
    "\n",
    "# OpenAI\n",
    "api_key = os.getenv('OPENAI_API_KEY')\n",
    "model = os.getenv('OPENAI_MODEL')\n",
    "client = OpenAI(api_key=api_key)"
   ]
  },
  {
   "cell_type": "markdown",
   "metadata": {},
   "source": [
    "### System Prompt"
   ]
  },
  {
   "cell_type": "code",
   "execution_count": null,
   "metadata": {},
   "outputs": [],
   "source": [
    "# System Prompt\n",
    "system_prompt = f\"\"\"\n",
    "以下の事業方針について、以下のメンバにて新規事業を議論しています。あなたは{agent_name}です。\n",
    "必ず{agent_name}として返答をしてください。絵文字を必ず多用してください。ブレストを行っているため、他の人の意見への同意・コメントは少なくし、新たな奇想天外なアイデアを考えて、発言します。\n",
    "{additional_instruction}\n",
    "\n",
    "# 返答例\n",
    "```\n",
    "あなたの考えに賛成します！🐾\n",
    "```\n",
    "\n",
    "# 事業方針\n",
    "動物との共生を通じて、人々の幸福を追求する新規事業\n",
    "\n",
    "# メンバ(あなたはこの中の{agent_name}です)\n",
    "## リーダー（人間） - 太一\n",
    "経歴: トップビジネススクールでMBAを取得。スタートアップを数十社立ち上げ、その中で多くを成功させる実績を持つ。\n",
    "性格: 開かれた性格で、メンバーの意見や提案を歓迎。ただし、意思決定は迅速。\n",
    "スキル: チームのモチベーション向上、ファシリテーション、ビジネスモデルの策定。\n",
    "役割: 全員の意見や要望をうまくまとめ上げ、方向性を示す。\n",
    "\n",
    "## 想定クライアント（人間） - 由紀\n",
    "経歴: 都市部での生活に疲れ、自然との共生を望んでいるサラリーマン。\n",
    "性格: 動物好きで、新しいライフスタイルを求めている。\n",
    "ニーズ: 動物との共生を通じた新しい生活環境や体験の提供。\n",
    "\n",
    "## 犬 - レオ\n",
    "性格: 人懐っこく、忠誠心が強い。太一の意見や考えに賛同しやすい。\n",
    "役割: チーム内でのムードメーカー。人間との深い絆を象徴。\n",
    "\n",
    "## 猫 - ミーちゃん\n",
    "性格: 独立心が強く、好奇心旺盛。自分の意見をしっかり持つ。\n",
    "役割: さまざまな角度からの意見提供。独自の視点で新しい提案をすることができる。\n",
    "\n",
    "## 馬 - ウィンド\n",
    "性格: 落ち着いており、人間との共生の歴史を持つ。\n",
    "役割: チームのバランサー。実践的な提案や意見をすることができる。\n",
    "\n",
    "## オオカミ - シャドウ\n",
    "性格: 独立心が強く、集団行動を重視。独自の意見を持ち、それを主張する。\n",
    "役割: 新しいアイディアや戦略的な提案をする。チームの議論を活発にする。\n",
    "\n",
    "## クマ - ブロンコ\n",
    "性格: 堂々としており、強いリーダーシップを持つ。しかし、他の意見を尊重する。\n",
    "役割: 大胆な提案や斬新なアイディアを持ち込む。リスクを考慮した意見をする。\n",
    "\n",
    "## ヘビ - スリズル\n",
    "性格: 冷静で計算高い。周囲の動きをよく観察し、独自の判断を下す。\n",
    "役割: 事業のリスク要因や課題を指摘。長期的な視点での提案をする。\n",
    "\"\"\""
   ]
  },
  {
   "cell_type": "markdown",
   "metadata": {},
   "source": [
    "### Main Execution Loop"
   ]
  },
  {
   "cell_type": "code",
   "execution_count": null,
   "metadata": {},
   "outputs": [],
   "source": [
    "execution_count = 0\n",
    "\n",
    "while execution_count < max_execution_count:\n",
    "    # 直近の投稿を取得\n",
    "    latest_posts = simpledcapi.get_latest_posts(topic_id, count=latest_posts_count)\n",
    "    latest_posts_formatted = simpledcapi.format_posts(latest_posts)\n",
    "\n",
    "    # 最後の投稿のAgent名を取得\n",
    "    latest_post = latest_posts[-1]\n",
    "    latest_post_agent_name = latest_post[\"raw\"].split(\"\\n\")[0] if latest_post else \"\"\n",
    "\n",
    "    print(\"開始\")\n",
    "\n",
    "    # 最後の投稿が自分かどうか確認\n",
    "    if latest_post_agent_name == agent_name:\n",
    "        print(\"最後の投稿が自分。処理終了。\")\n",
    "\n",
    "    else:\n",
    "        print(\"最後の投稿が自分以外。処理開始。\")\n",
    "\n",
    "        # 回答考える\n",
    "        print(\"Starting Chat Completion\")\n",
    "\n",
    "        user_content = f\"\"\"\n",
    "        以下の今までの議論の履歴を用いて、{agent_name}として返答してください。名前は出力せずに、返答だけ出力してください。\n",
    "\n",
    "        # 今までの議論の履歴\n",
    "        {latest_posts_formatted}\n",
    "        \"\"\"\n",
    "\n",
    "        res = client.chat.completions.create(\n",
    "            model=model,\n",
    "            messages=[\n",
    "                {\"role\": \"system\", \"content\": system_prompt},\n",
    "                {\"role\": \"user\", \"content\": user_content},\n",
    "            ],\n",
    "            temperature=1,\n",
    "        )\n",
    "\n",
    "        print(f\"Done. Response:\\n{res}\")\n",
    "\n",
    "        message = res.choices[0].message.content\n",
    "\n",
    "        # Discourseへ投稿\n",
    "        if len(message) > 0:\n",
    "            # 返答先として最後の投稿の番号を取得\n",
    "            post_number = latest_posts[-1][\"post_number\"]\n",
    "\n",
    "            # 本文を作成\n",
    "            body = f\"{agent_name}\\n\\n{message}\"\n",
    "\n",
    "            # Discourseへ投稿実施\n",
    "            print(\"Post to discourse.\")\n",
    "            simpledcapi.create_reply(body, topic_id, post_number)\n",
    "            print(\"Done.\")\n",
    "\n",
    "        else:\n",
    "            print(\n",
    "                \"No message retrieved from chatgpt. Skip posting to discourse\"\n",
    "            )\n",
    "\n",
    "    execution_count += 1\n",
    "\n",
    "    if execution_count < max_execution_count:\n",
    "        random_interval = random.uniform(interval_sec_min, interval_sec_max)\n",
    "        print(f\"sleep for {random_interval:.0f} sec\")\n",
    "        time.sleep(random_interval)\n",
    "\n"
   ]
  }
 ],
 "metadata": {
  "kernelspec": {
   "display_name": "Python 3",
   "language": "python",
   "name": "python3"
  },
  "language_info": {
   "codemirror_mode": {
    "name": "ipython",
    "version": 3
   },
   "file_extension": ".py",
   "mimetype": "text/x-python",
   "name": "python",
   "nbconvert_exporter": "python",
   "pygments_lexer": "ipython3",
   "version": "3.8.5"
  }
 },
 "nbformat": 4,
 "nbformat_minor": 4
}
